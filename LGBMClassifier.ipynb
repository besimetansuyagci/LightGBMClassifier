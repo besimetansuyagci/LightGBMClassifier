{
 "cells": [
  {
   "cell_type": "code",
   "execution_count": null,
   "metadata": {},
   "outputs": [],
   "source": [
    "import lightgbm as lgb\n",
    "# application =  'binary' : binary log loss classification (or logistic regression). Requires labels in {0, 1}\n",
    "# objective = 'binary': for classification problems\n",
    "# metric = 'auc' : to be evaluated on the evaluation set(s)                       \n",
    "# is_unbalance = 'true' : set this to true if training data are unbalanced\n",
    "# boosting_type = 'gbdt' : traditional Gradient Boosting Decision Tree \n",
    "# feature_fraction : randomly select part of features on each iteration\n",
    "# bagging_fraction : randomly select part of data without resampling\n",
    "# bagging_freq : frequency for bagging\n",
    "# min_data_in_leaf : minimal number of data in one leaf\n",
    "# boost_from_average = true: adjusts initial score to the mean of labels for faster convergence\n",
    "\n",
    "lgb_estimator = lgb.LGBMClassifier( objective = 'binary',\n",
    "                                    metric = 'auc',\n",
    "                                    is_unbalance = 'true',\n",
    "                                    boosting_type = 'gbdt',\n",
    "                                    learning_rate = 0.01,\n",
    "                                    feature_fraction = 0.05,\n",
    "                                    bagging_fraction = 0.4,\n",
    "                                    bagging_freq = 5,\n",
    "                                    min_data_in_leaf = 80,\n",
    "                                    num_boost_round = 5000,\n",
    "                                    verbosity = -1,\n",
    "                                    tree_learner = 'serial',\n",
    "                                    max_depth = -1,\n",
    "                                    num_threads = 8,\n",
    "                                    boost_from_average = 'false',\n",
    "                                    min_sum_hessian_in_leaf = 10.0,\n",
    "                                    num_leaves = 13\n",
    "                                    )\n",
    "\n",
    "lgb_estimator.fit(\n",
    "    x_train, y_train, \n",
    "    eval_set= [(x_test, y_test)], \n",
    "    eval_metric='auc', verbose = -1, early_stopping_rounds = 100 \n",
    ")\n",
    "\n",
    "from sklearn.metrics import roc_auc_score\n",
    "probas_ = lgb_estimator.predict_proba(x_test)[:,1]\n",
    "print(roc_auc_score(y_test, probas_))"
   ]
  }
 ],
 "metadata": {
  "kernelspec": {
   "display_name": "Python 3",
   "language": "python",
   "name": "python3"
  },
  "language_info": {
   "codemirror_mode": {
    "name": "ipython",
    "version": 3
   },
   "file_extension": ".py",
   "mimetype": "text/x-python",
   "name": "python",
   "nbconvert_exporter": "python",
   "pygments_lexer": "ipython3",
   "version": "3.7.3"
  }
 },
 "nbformat": 4,
 "nbformat_minor": 4
}
